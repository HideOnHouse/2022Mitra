{
 "cells": [
  {
   "cell_type": "code",
   "execution_count": 1,
   "id": "polar-genesis",
   "metadata": {},
   "outputs": [],
   "source": [
    "import os\n",
    "import sys\n",
    "\n",
    "import numpy as np\n",
    "import pandas as pd\n",
    "import seaborn as sns\n",
    "import torch\n",
    "import torch.nn as nn\n",
    "from matplotlib import pyplot as plt\n",
    "from sklearn.ensemble import RandomForestClassifier\n",
    "from sklearn.metrics import classification_report\n",
    "from sklearn.mixture import BayesianGaussianMixture, GaussianMixture\n",
    "from sklearn.preprocessing import OrdinalEncoder, RobustScaler, StandardScaler\n",
    "from torch.utils.data import DataLoader, Dataset\n",
    "from tqdm.auto import tqdm, trange\n",
    "\n",
    "from utils import GroupDataset"
   ]
  },
  {
   "cell_type": "code",
   "execution_count": 2,
   "id": "ranking-defense",
   "metadata": {},
   "outputs": [],
   "source": [
    "SEED = 755"
   ]
  },
  {
   "cell_type": "code",
   "execution_count": 7,
   "id": "d5072216",
   "metadata": {},
   "outputs": [],
   "source": [
    "train_dataset = GroupDataset('./data', train=True)"
   ]
  },
  {
   "cell_type": "code",
   "execution_count": 4,
   "id": "demographic-giant",
   "metadata": {},
   "outputs": [],
   "source": [
    "class FrequencyRankingEncoder:\n",
    "    def __init__(self):\n",
    "        self.encoding_tables = []\n",
    "        self.min_values = []\n",
    "\n",
    "    def fit(self, x: np.array):\n",
    "        self.encoding_tables.clear()\n",
    "        self.min_values.clear()\n",
    "        for col_idx in range(x.shape[1]):\n",
    "            col = x[:, col_idx]\n",
    "            # build frequency table\n",
    "            freq_table = {}\n",
    "            x_list, freq_list = np.unique(col, return_counts=True)\n",
    "            for i, freq in enumerate(freq_list):\n",
    "                if freq not in freq_table:\n",
    "                    freq_table[freq] = []\n",
    "                freq_table[freq].append(x_list[i])\n",
    "\n",
    "            # make encoding table\n",
    "            self.encoding_tables.append(dict())\n",
    "            \n",
    "            # Cumulative Density Function\n",
    "            # total_cnt = sum(freq_list)\n",
    "            # current_cum = 0\n",
    "            # for i, freq in enumerate(sorted(freq_table)):\n",
    "            #     current_cum += freq * len(freq_table[freq])\n",
    "            #     for data in freq_table[freq]:\n",
    "            #         self.encoding_table[data] = current_cum / total_cnt\n",
    "\n",
    "\n",
    "            encoding_table = self.encoding_tables[-1]\n",
    "            no_of_ranking = len(list(freq_table.keys()))\n",
    "            for ranking, freq in enumerate(sorted(freq_table)):\n",
    "                for i in freq_table[freq]:\n",
    "                    encoding_table[i] = (ranking + 1) / no_of_ranking\n",
    "            self.min_values.append(min(encoding_table.values()))\n",
    "\n",
    "    def transform(self, x: np.array):\n",
    "        ret = []\n",
    "        for col_idx in range(x.shape[1]):\n",
    "            col = x[:, col_idx]\n",
    "            encoding_table = self.encoding_tables[col_idx]\n",
    "            temp = np.empty_like(col, dtype=float)\n",
    "            for idx in range(temp.shape[0]):\n",
    "                temp[idx] = encoding_table.get(col[idx], 0)\n",
    "            ret.append(temp)\n",
    "        ret = np.array(ret).T\n",
    "        return ret\n",
    "\n",
    "    def fit_transform(self, data):\n",
    "        self.fit(data)\n",
    "        return self.transform(data)"
   ]
  },
  {
   "cell_type": "code",
   "execution_count": 8,
   "id": "quick-correction",
   "metadata": {},
   "outputs": [],
   "source": [
    "x_train, y_train, k_train = train_dataset.get_xy()"
   ]
  },
  {
   "cell_type": "code",
   "execution_count": 9,
   "id": "3d98ae94",
   "metadata": {},
   "outputs": [],
   "source": [
    "valid_dataset = GroupDataset('./data', train=False)"
   ]
  },
  {
   "cell_type": "code",
   "execution_count": 10,
   "id": "stuffed-pressing",
   "metadata": {},
   "outputs": [],
   "source": [
    "x_valid, y_valid, k_valid = valid_dataset.get_xy()"
   ]
  },
  {
   "cell_type": "markdown",
   "id": "f77e3ded",
   "metadata": {},
   "source": [
    "### Phase Encode"
   ]
  },
  {
   "cell_type": "code",
   "execution_count": 202,
   "id": "moderate-france",
   "metadata": {},
   "outputs": [],
   "source": [
    "scaler = FrequencyRankingEncoder()\n",
    "x_train_fre = scaler.fit_transform(x_train)\n",
    "x_valid_fre = scaler.transform(x_valid)"
   ]
  },
  {
   "cell_type": "code",
   "execution_count": 27,
   "id": "d95b3fdf",
   "metadata": {},
   "outputs": [],
   "source": [
    "x_train = np.concatenate([x_train, x_train_fre], axis=1)\n",
    "x_valid = np.concatenate([x_valid, x_valid_fre], axis=1)"
   ]
  },
  {
   "cell_type": "markdown",
   "id": "164040dc",
   "metadata": {},
   "source": [
    "### End Phase Encoder"
   ]
  },
  {
   "cell_type": "code",
   "execution_count": 11,
   "id": "collaborative-mexico",
   "metadata": {},
   "outputs": [
    {
     "data": {
      "text/plain": [
       "RandomForestClassifier(n_jobs=-1, random_state=755)"
      ]
     },
     "execution_count": 11,
     "metadata": {},
     "output_type": "execute_result"
    }
   ],
   "source": [
    "model = RandomForestClassifier(n_jobs=-1, random_state=SEED)\n",
    "model.fit(x_train, y_train)"
   ]
  },
  {
   "cell_type": "code",
   "execution_count": 12,
   "id": "front-trustee",
   "metadata": {},
   "outputs": [],
   "source": [
    "pred = model.predict(x_valid)"
   ]
  },
  {
   "cell_type": "code",
   "execution_count": 13,
   "id": "convertible-despite",
   "metadata": {},
   "outputs": [
    {
     "name": "stdout",
     "output_type": "stream",
     "text": [
      "              precision    recall  f1-score   support\n",
      "\n",
      "           0     0.9517    0.9678    0.9597       590\n",
      "           1     0.9575    0.9365    0.9469       457\n",
      "\n",
      "    accuracy                         0.9542      1047\n",
      "   macro avg     0.9546    0.9522    0.9533      1047\n",
      "weighted avg     0.9542    0.9542    0.9541      1047\n",
      "\n"
     ]
    }
   ],
   "source": [
    "print(classification_report(y_valid, pred, digits=4))"
   ]
  },
  {
   "cell_type": "code",
   "execution_count": null,
   "id": "332783c8",
   "metadata": {},
   "outputs": [],
   "source": [
    "    "
   ]
  }
 ],
 "metadata": {
  "kernelspec": {
   "display_name": "one",
   "language": "python",
   "name": "one"
  },
  "language_info": {
   "codemirror_mode": {
    "name": "ipython",
    "version": 3
   },
   "file_extension": ".py",
   "mimetype": "text/x-python",
   "name": "python",
   "nbconvert_exporter": "python",
   "pygments_lexer": "ipython3",
   "version": "3.9.10"
  }
 },
 "nbformat": 4,
 "nbformat_minor": 5
}
