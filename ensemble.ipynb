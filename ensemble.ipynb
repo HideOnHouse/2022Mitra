{
 "cells": [
  {
   "cell_type": "code",
   "execution_count": 1,
   "metadata": {},
   "outputs": [],
   "source": [
    "import pickle\n",
    "\n",
    "from sklearn.metrics import f1_score"
   ]
  },
  {
   "cell_type": "code",
   "execution_count": 6,
   "metadata": {},
   "outputs": [],
   "source": [
    "with open('./data/outer_benign_IP.pkl', 'rb') as f:\n",
    "    benign = pickle.load(f)\n",
    "with open('./data/outer_mal_IP.pkl', 'rb') as f:\n",
    "    mal = pickle.load(f)\n",
    "whole = benign | mal\n",
    "with open('./proba_best_not_detected.pkl', 'rb') as f:\n",
    "    prob_ben = pickle.load(f)\n",
    "with open('./proba_best_detected.pkl', 'rb') as f:\n",
    "    prob_mal = pickle.load(f)\n",
    "with open('./group_best_not_detected.pkl', 'rb') as f:\n",
    "    group_ben = pickle.load(f)\n",
    "with  open('./group_best_detected.pkl', 'rb') as f:\n",
    "    group_mal = pickle.load(f)\n"
   ]
  },
  {
   "cell_type": "code",
   "execution_count": 4,
   "metadata": {},
   "outputs": [],
   "source": [
    "def get_detect_report(detected, not_detected, mal_ip, ben_ip, digit=4, verbose=False):\n",
    "    detected, not_detected = map(set, [detected, not_detected])\n",
    "    mal_ip, ben_ip = map(set, [mal_ip, ben_ip])\n",
    "    tp = detected & mal_ip\n",
    "    fp = detected & ben_ip\n",
    "    tn = not_detected & ben_ip\n",
    "    fn = not_detected & mal_ip\n",
    "    tp, fp, tn, fn = map(len, [tp, fp, tn, fn])\n",
    "    total = tp + fp + tn + fn\n",
    "    acc = (tp + tn) / total\n",
    "    pre = (tp) / (tp + fp + 1e-8)\n",
    "    rec = (tp) / (tp + fn + 1e-8)\n",
    "    f1 = 2 * (pre * rec) / (pre + rec + 1e-8)\n",
    "    if verbose:\n",
    "        print(f\"accuracy: {acc:.{digit}}\\nprecision: {pre:.{digit}}\\nrecall: {rec:.{digit}}\\nf1: {f1:.{digit}}\")\n",
    "    return f1"
   ]
  },
  {
   "cell_type": "code",
   "execution_count": 11,
   "metadata": {},
   "outputs": [],
   "source": [
    "pred_mal = prob_mal & group_mal\n",
    "pred_ben = whole - prob_mal"
   ]
  },
  {
   "cell_type": "code",
   "execution_count": 12,
   "metadata": {},
   "outputs": [
    {
     "name": "stdout",
     "output_type": "stream",
     "text": [
      "accuracy: 0.998045\n",
      "precision: 0.997732\n",
      "recall: 0.997732\n",
      "f1: 0.997732\n"
     ]
    },
    {
     "data": {
      "text/plain": [
       "0.9977324212812306"
      ]
     },
     "execution_count": 12,
     "metadata": {},
     "output_type": "execute_result"
    }
   ],
   "source": [
    "get_detect_report(pred_mal, pred_ben, mal, benign, digit=6, verbose=True)"
   ]
  },
  {
   "cell_type": "code",
   "execution_count": null,
   "metadata": {},
   "outputs": [],
   "source": []
  }
 ],
 "metadata": {
  "kernelspec": {
   "display_name": "Python 3.9.10 ('one')",
   "language": "python",
   "name": "python3"
  },
  "language_info": {
   "codemirror_mode": {
    "name": "ipython",
    "version": 3
   },
   "file_extension": ".py",
   "mimetype": "text/x-python",
   "name": "python",
   "nbconvert_exporter": "python",
   "pygments_lexer": "ipython3",
   "version": "3.9.10"
  },
  "orig_nbformat": 4,
  "vscode": {
   "interpreter": {
    "hash": "601a5df23d8ad33032c3f7df0ea1a94b78932dde0ba49536eb81521cb801a817"
   }
  }
 },
 "nbformat": 4,
 "nbformat_minor": 2
}
