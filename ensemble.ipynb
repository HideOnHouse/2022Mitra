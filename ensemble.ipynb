{
 "cells": [
  {
   "cell_type": "code",
   "execution_count": 1,
   "metadata": {},
   "outputs": [],
   "source": [
    "import pickle\n",
    "\n",
    "from sklearn.metrics import f1_score"
   ]
  },
  {
   "cell_type": "code",
   "execution_count": 2,
   "metadata": {},
   "outputs": [],
   "source": [
    "with open('./data/outer_ip_set.pkl', 'rb') as f:\n",
    "    whole = pickle.load(f)\n",
    "\n",
    "with open('./proba_not_detected.pkl', 'rb') as f:\n",
    "    prob_ben = pickle.load(f)\n",
    "\n",
    "with open('./proba_detected.pkl', 'rb') as f:\n",
    "    prob_mal = pickle.load(f)\n",
    "\n",
    "with open('./group_not_detected.pkl', 'rb') as f:\n",
    "    group_ben = pickle.load(f)\n",
    "\n",
    "with  open('./group_detected.pkl', 'rb') as f:\n",
    "    group_mal = pickle.load(f)\n"
   ]
  },
  {
   "cell_type": "code",
   "execution_count": 5,
   "metadata": {},
   "outputs": [],
   "source": [
    "pred_mal = prob_mal & group_mal\n",
    "pred_ben = whole - pred_mal"
   ]
  },
  {
   "cell_type": "code",
   "execution_count": 6,
   "metadata": {},
   "outputs": [
    {
     "name": "stdout",
     "output_type": "stream",
     "text": [
      "whole 1047\n",
      "prob_ben 581\n",
      "prob_mal 466\n",
      "group_ben 596\n",
      "group_mal 451\n",
      "pred_ben 610\n",
      "pred_mal 437\n"
     ]
    }
   ],
   "source": [
    "for i in ['whole', 'prob_ben', 'prob_mal', 'group_ben', 'group_mal', 'pred_ben', 'pred_mal']:\n",
    "    print(i, len(eval(i)))"
   ]
  },
  {
   "cell_type": "code",
   "execution_count": 11,
   "metadata": {},
   "outputs": [],
   "source": [
    "with open('./mitra_Project2_1.csv', 'w') as f:\n",
    "    f.write(\"IP,Prediction\\n\")\n",
    "    for i in prob_ben:\n",
    "        f.write(f\"{i},{0}\\n\")\n",
    "    for i in prob_mal:\n",
    "        f.write(f\"{i},{1}\\n\")\n",
    "\n",
    "\n",
    "with open('./mitra_Project2_2.csv', 'w') as f:\n",
    "    f.write(\"IP,Prediction\\n\")\n",
    "    for i in group_ben:\n",
    "        f.write(f\"{i},{0}\\n\")\n",
    "    for i in group_mal:\n",
    "        f.write(f\"{i},{1}\\n\")\n",
    "\n",
    "with open('./mitra_Project2_3.csv', 'w') as f:\n",
    "    f.write(\"IP,Prediction\\n\")\n",
    "    for i in pred_ben:\n",
    "        f.write(f\"{i},{0}\\n\")\n",
    "    for i in pred_mal:\n",
    "        f.write(f\"{i},{0}\\n\")"
   ]
  },
  {
   "cell_type": "code",
   "execution_count": null,
   "metadata": {},
   "outputs": [],
   "source": []
  }
 ],
 "metadata": {
  "kernelspec": {
   "display_name": "Python 3.9.10 ('one')",
   "language": "python",
   "name": "python3"
  },
  "language_info": {
   "codemirror_mode": {
    "name": "ipython",
    "version": 3
   },
   "file_extension": ".py",
   "mimetype": "text/x-python",
   "name": "python",
   "nbconvert_exporter": "python",
   "pygments_lexer": "ipython3",
   "version": "3.9.10"
  },
  "orig_nbformat": 4,
  "vscode": {
   "interpreter": {
    "hash": "601a5df23d8ad33032c3f7df0ea1a94b78932dde0ba49536eb81521cb801a817"
   }
  }
 },
 "nbformat": 4,
 "nbformat_minor": 2
}
